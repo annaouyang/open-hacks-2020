{
  "nbformat": 4,
  "nbformat_minor": 0,
  "metadata": {
    "colab": {
      "name": "mobility-and-corona-cases.ipynb",
      "provenance": [],
      "authorship_tag": "ABX9TyOSx1WEOh3rTFRLjII/yz+Y",
      "include_colab_link": true
    },
    "kernelspec": {
      "name": "python3",
      "display_name": "Python 3"
    }
  },
  "cells": [
    {
      "cell_type": "markdown",
      "metadata": {
        "id": "view-in-github",
        "colab_type": "text"
      },
      "source": [
        "<a href=\"https://colab.research.google.com/github/annaouyang/open-hacks-2020/blob/master/mobility_and_corona_cases.ipynb\" target=\"_parent\"><img src=\"https://colab.research.google.com/assets/colab-badge.svg\" alt=\"Open In Colab\"/></a>"
      ]
    },
    {
      "cell_type": "markdown",
      "metadata": {
        "id": "F0WFU9KrTNA0",
        "colab_type": "text"
      },
      "source": [
        "# The relationship between mobility and number of COVID-19 cases"
      ]
    },
    {
      "cell_type": "code",
      "metadata": {
        "id": "gTerK04lS0WQ",
        "colab_type": "code",
        "colab": {
          "base_uri": "https://localhost:8080/",
          "height": 34
        },
        "outputId": "7fe2e4d5-337a-4fb9-bedc-7da69d585abb"
      },
      "source": [
        "print(\"Hello world\")"
      ],
      "execution_count": 1,
      "outputs": [
        {
          "output_type": "stream",
          "text": [
            "Hello world\n"
          ],
          "name": "stdout"
        }
      ]
    }
  ]
}