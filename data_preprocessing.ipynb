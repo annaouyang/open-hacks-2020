{
  "nbformat": 4,
  "nbformat_minor": 0,
  "metadata": {
    "colab": {
      "name": "data-preprocessing.ipynb",
      "provenance": [],
      "collapsed_sections": [],
      "authorship_tag": "ABX9TyOyjeaKcvezeJoyK1VWNGWy",
      "include_colab_link": true
    },
    "kernelspec": {
      "name": "python3",
      "display_name": "Python 3"
    }
  },
  "cells": [
    {
      "cell_type": "markdown",
      "metadata": {
        "id": "view-in-github",
        "colab_type": "text"
      },
      "source": [
        "<a href=\"https://colab.research.google.com/github/annaouyang/open-hacks-2020/blob/master/data_preprocessing.ipynb\" target=\"_parent\"><img src=\"https://colab.research.google.com/assets/colab-badge.svg\" alt=\"Open In Colab\"/></a>"
      ]
    },
    {
      "cell_type": "markdown",
      "metadata": {
        "id": "0f_Pz1WRpcv4",
        "colab_type": "text"
      },
      "source": [
        "# Data Pre-processing\n",
        "\n",
        "The goal of this notebook is to join Google's mobility data (https://www.google.com/covid19/mobility/) with COVID-19 case counts on a county-by-county basis (United States only).\n"
      ]
    },
    {
      "cell_type": "markdown",
      "metadata": {
        "id": "AXX3l1CuqlRQ",
        "colab_type": "text"
      },
      "source": [
        "## About the Data\n",
        "\n",
        "### 1. Google COVID-19 Community Reports \n",
        "\n",
        "According to their website, \"the data shows how visitors to (or time spent in) categorized places change compared to our baseline days. A baseline day represents a normal value for that day of the week. The baseline day is the median value from the 5‑week period Jan 3 – Feb 6, 2020.\n",
        "\n",
        "For each region-category, the baseline isn’t a single value—it’s 7 individual values. The same number of visitors on 2 different days of the week, result in different percentage changes. So, we recommend the following:\n",
        "\n",
        "Don’t infer that larger changes mean more visitors or smaller changes mean less visitors. Avoid comparing day-to-day changes. Especially weekends with weekdays.\"\n",
        "\n",
        "Citation: Google LLC \"Google COVID-19 Community Mobility Reports\".\n",
        "https://www.google.com/covid19/mobility/ Accessed: May 23, 2020.\n",
        "\n",
        "\n",
        "### 2. Population \n",
        "\n",
        "We anticipate that COVID-19 case counts will be closely related to population. We will be using 2019 population data for US counties provided here: https://www.census.gov/data/tables/time-series/demo/popest/2010s-counties-total.html.\n",
        "\n",
        "We were unable to find reliable land area values for US counties. Thus, we were unable to calculate population density values.\n",
        "\n",
        "\n",
        "### 3: COVID-19 case counts\n",
        "\n",
        "We will be using the COVID-19 case counts provided by the New York Times in the following GitHub repo: https://github.com/nytimes/covid-19-data. Historical data is saved as the total # of COVID-19 cases for a county at the end of each day.\n",
        "\n",
        "https://raw.githubusercontent.com/nytimes/covid-19-data/master/us-counties.csv\n",
        "\n"
      ]
    },
    {
      "cell_type": "markdown",
      "metadata": {
        "id": "roqMZYhCvMT-",
        "colab_type": "text"
      },
      "source": [
        "## Load the data"
      ]
    },
    {
      "cell_type": "code",
      "metadata": {
        "id": "v4TY4WJhvWJd",
        "colab_type": "code",
        "colab": {}
      },
      "source": [
        "import pandas as pd\n",
        "import numpy as np\n",
        "import datetime as dt\n",
        "from datetime import timedelta"
      ],
      "execution_count": 0,
      "outputs": []
    },
    {
      "cell_type": "code",
      "metadata": {
        "id": "9756GiB2vffE",
        "colab_type": "code",
        "outputId": "02545724-00d5-4dae-bf1f-ffff055bde04",
        "colab": {
          "base_uri": "https://localhost:8080/",
          "height": 52
        }
      },
      "source": [
        "# for now, pull from CSVs in repo\n",
        "google_url = 'https://raw.githubusercontent.com/annaouyang/open-hacks-2020/master/google_mobility.csv'\n",
        "population_url = 'https://raw.githubusercontent.com/annaouyang/open-hacks-2020/master/us-census-population.csv'\n",
        "\n",
        "\n",
        "google_col = ['country_region_code', 'country_region', 'state','county', 'date', 'retail_and_rec', 'grocery_and_pharmacy','parks','transit_stations','workplaces','residential']\n",
        "\n",
        "population_col = ['county', 'state', 'population']\n",
        "population_dtype_lst = [str, str, int]\n",
        "population_dtype_dict = dict(zip(population_col, population_dtype_lst))\n",
        "\n",
        "\n",
        "google_df = pd.read_csv(google_url, names=google_col, skiprows=[0])\n",
        "population_df = pd.read_csv(population_url, names=population_col, dtype=population_dtype_dict , skiprows=[0])"
      ],
      "execution_count": 2,
      "outputs": [
        {
          "output_type": "stream",
          "text": [
            "/usr/local/lib/python3.6/dist-packages/IPython/core/interactiveshell.py:2718: DtypeWarning: Columns (3) have mixed types.Specify dtype option on import or set low_memory=False.\n",
            "  interactivity=interactivity, compiler=compiler, result=result)\n"
          ],
          "name": "stderr"
        }
      ]
    },
    {
      "cell_type": "code",
      "metadata": {
        "id": "-y_rCO9-gpr6",
        "colab_type": "code",
        "colab": {}
      },
      "source": [
        "# get fips data\n",
        "\n",
        "fips_url = 'https://raw.githubusercontent.com/annaouyang/open-hacks-2020/master/fips.csv'\n",
        "\n",
        "fips_df = pd.read_csv(fips_url, dtype={'state_fips': str, 'county_fips': str, 'area_name': str})"
      ],
      "execution_count": 0,
      "outputs": []
    },
    {
      "cell_type": "markdown",
      "metadata": {
        "id": "mQvw43zgu_SU",
        "colab_type": "text"
      },
      "source": [
        "## Preprocess FIPS data (state and county)"
      ]
    },
    {
      "cell_type": "code",
      "metadata": {
        "id": "aUbXqONIvEPG",
        "colab_type": "code",
        "colab": {
          "base_uri": "https://localhost:8080/",
          "height": 197
        },
        "outputId": "d3cfcf0e-bcbe-455d-c1a9-75da433be50d"
      },
      "source": [
        "fips_df.head()"
      ],
      "execution_count": 4,
      "outputs": [
        {
          "output_type": "execute_result",
          "data": {
            "text/html": [
              "<div>\n",
              "<style scoped>\n",
              "    .dataframe tbody tr th:only-of-type {\n",
              "        vertical-align: middle;\n",
              "    }\n",
              "\n",
              "    .dataframe tbody tr th {\n",
              "        vertical-align: top;\n",
              "    }\n",
              "\n",
              "    .dataframe thead th {\n",
              "        text-align: right;\n",
              "    }\n",
              "</style>\n",
              "<table border=\"1\" class=\"dataframe\">\n",
              "  <thead>\n",
              "    <tr style=\"text-align: right;\">\n",
              "      <th></th>\n",
              "      <th>state_fips</th>\n",
              "      <th>county_fips</th>\n",
              "      <th>area_name</th>\n",
              "    </tr>\n",
              "  </thead>\n",
              "  <tbody>\n",
              "    <tr>\n",
              "      <th>0</th>\n",
              "      <td>01</td>\n",
              "      <td>000</td>\n",
              "      <td>Alabama</td>\n",
              "    </tr>\n",
              "    <tr>\n",
              "      <th>1</th>\n",
              "      <td>01</td>\n",
              "      <td>001</td>\n",
              "      <td>Autauga County</td>\n",
              "    </tr>\n",
              "    <tr>\n",
              "      <th>2</th>\n",
              "      <td>01</td>\n",
              "      <td>003</td>\n",
              "      <td>Baldwin County</td>\n",
              "    </tr>\n",
              "    <tr>\n",
              "      <th>3</th>\n",
              "      <td>01</td>\n",
              "      <td>005</td>\n",
              "      <td>Barbour County</td>\n",
              "    </tr>\n",
              "    <tr>\n",
              "      <th>4</th>\n",
              "      <td>01</td>\n",
              "      <td>007</td>\n",
              "      <td>Bibb County</td>\n",
              "    </tr>\n",
              "  </tbody>\n",
              "</table>\n",
              "</div>"
            ],
            "text/plain": [
              "  state_fips county_fips       area_name\n",
              "0         01         000         Alabama\n",
              "1         01         001  Autauga County\n",
              "2         01         003  Baldwin County\n",
              "3         01         005  Barbour County\n",
              "4         01         007     Bibb County"
            ]
          },
          "metadata": {
            "tags": []
          },
          "execution_count": 4
        }
      ]
    },
    {
      "cell_type": "code",
      "metadata": {
        "id": "eNbaZSq8gxxy",
        "colab_type": "code",
        "outputId": "1e4b8b8c-6e44-48c4-d0ce-7fc48c022d25",
        "colab": {
          "base_uri": "https://localhost:8080/",
          "height": 197
        }
      },
      "source": [
        "state_fips = fips_df.drop_duplicates(subset=['state_fips'], keep='first')\n",
        "state_fips = state_fips.drop(columns=['county_fips'])\n",
        "state_fips.columns = ['state_fips', 'state']\n",
        "state_fips.head()"
      ],
      "execution_count": 5,
      "outputs": [
        {
          "output_type": "execute_result",
          "data": {
            "text/html": [
              "<div>\n",
              "<style scoped>\n",
              "    .dataframe tbody tr th:only-of-type {\n",
              "        vertical-align: middle;\n",
              "    }\n",
              "\n",
              "    .dataframe tbody tr th {\n",
              "        vertical-align: top;\n",
              "    }\n",
              "\n",
              "    .dataframe thead th {\n",
              "        text-align: right;\n",
              "    }\n",
              "</style>\n",
              "<table border=\"1\" class=\"dataframe\">\n",
              "  <thead>\n",
              "    <tr style=\"text-align: right;\">\n",
              "      <th></th>\n",
              "      <th>state_fips</th>\n",
              "      <th>state</th>\n",
              "    </tr>\n",
              "  </thead>\n",
              "  <tbody>\n",
              "    <tr>\n",
              "      <th>0</th>\n",
              "      <td>01</td>\n",
              "      <td>Alabama</td>\n",
              "    </tr>\n",
              "    <tr>\n",
              "      <th>529</th>\n",
              "      <td>02</td>\n",
              "      <td>Alaska</td>\n",
              "    </tr>\n",
              "    <tr>\n",
              "      <th>707</th>\n",
              "      <td>04</td>\n",
              "      <td>Arizona</td>\n",
              "    </tr>\n",
              "    <tr>\n",
              "      <th>814</th>\n",
              "      <td>05</td>\n",
              "      <td>Arkansas</td>\n",
              "    </tr>\n",
              "    <tr>\n",
              "      <th>1392</th>\n",
              "      <td>06</td>\n",
              "      <td>California</td>\n",
              "    </tr>\n",
              "  </tbody>\n",
              "</table>\n",
              "</div>"
            ],
            "text/plain": [
              "     state_fips       state\n",
              "0            01     Alabama\n",
              "529          02      Alaska\n",
              "707          04     Arizona\n",
              "814          05    Arkansas\n",
              "1392         06  California"
            ]
          },
          "metadata": {
            "tags": []
          },
          "execution_count": 5
        }
      ]
    },
    {
      "cell_type": "code",
      "metadata": {
        "id": "9K5vGM0zjLJC",
        "colab_type": "code",
        "outputId": "51a271ad-b7ec-47cc-f9b8-8bcf6811ddcc",
        "colab": {
          "base_uri": "https://localhost:8080/",
          "height": 197
        }
      },
      "source": [
        "county_fips = fips_df.merge(state_fips, on=['state_fips'])\n",
        "county_fips = county_fips.loc[county_fips['county_fips'] != '000'] # if 000, is name of state\n",
        "county_fips.columns = ['state_fips', 'county_fips', 'county', 'state']\n",
        "county_fips.head()"
      ],
      "execution_count": 14,
      "outputs": [
        {
          "output_type": "execute_result",
          "data": {
            "text/html": [
              "<div>\n",
              "<style scoped>\n",
              "    .dataframe tbody tr th:only-of-type {\n",
              "        vertical-align: middle;\n",
              "    }\n",
              "\n",
              "    .dataframe tbody tr th {\n",
              "        vertical-align: top;\n",
              "    }\n",
              "\n",
              "    .dataframe thead th {\n",
              "        text-align: right;\n",
              "    }\n",
              "</style>\n",
              "<table border=\"1\" class=\"dataframe\">\n",
              "  <thead>\n",
              "    <tr style=\"text-align: right;\">\n",
              "      <th></th>\n",
              "      <th>state_fips</th>\n",
              "      <th>county_fips</th>\n",
              "      <th>county</th>\n",
              "      <th>state</th>\n",
              "    </tr>\n",
              "  </thead>\n",
              "  <tbody>\n",
              "    <tr>\n",
              "      <th>1</th>\n",
              "      <td>01</td>\n",
              "      <td>001</td>\n",
              "      <td>Autauga County</td>\n",
              "      <td>Alabama</td>\n",
              "    </tr>\n",
              "    <tr>\n",
              "      <th>2</th>\n",
              "      <td>01</td>\n",
              "      <td>003</td>\n",
              "      <td>Baldwin County</td>\n",
              "      <td>Alabama</td>\n",
              "    </tr>\n",
              "    <tr>\n",
              "      <th>3</th>\n",
              "      <td>01</td>\n",
              "      <td>005</td>\n",
              "      <td>Barbour County</td>\n",
              "      <td>Alabama</td>\n",
              "    </tr>\n",
              "    <tr>\n",
              "      <th>4</th>\n",
              "      <td>01</td>\n",
              "      <td>007</td>\n",
              "      <td>Bibb County</td>\n",
              "      <td>Alabama</td>\n",
              "    </tr>\n",
              "    <tr>\n",
              "      <th>5</th>\n",
              "      <td>01</td>\n",
              "      <td>009</td>\n",
              "      <td>Blount County</td>\n",
              "      <td>Alabama</td>\n",
              "    </tr>\n",
              "  </tbody>\n",
              "</table>\n",
              "</div>"
            ],
            "text/plain": [
              "  state_fips county_fips          county    state\n",
              "1         01         001  Autauga County  Alabama\n",
              "2         01         003  Baldwin County  Alabama\n",
              "3         01         005  Barbour County  Alabama\n",
              "4         01         007     Bibb County  Alabama\n",
              "5         01         009   Blount County  Alabama"
            ]
          },
          "metadata": {
            "tags": []
          },
          "execution_count": 14
        }
      ]
    },
    {
      "cell_type": "code",
      "metadata": {
        "id": "f9DuFPNaOUtl",
        "colab_type": "code",
        "colab": {
          "base_uri": "https://localhost:8080/",
          "height": 77
        },
        "outputId": "359c343d-3ba2-4551-c95b-a7b9fd042282"
      },
      "source": [
        "county_fips[county_fips['county'] == 'Virginia Beach city']"
      ],
      "execution_count": 141,
      "outputs": [
        {
          "output_type": "execute_result",
          "data": {
            "text/html": [
              "<div>\n",
              "<style scoped>\n",
              "    .dataframe tbody tr th:only-of-type {\n",
              "        vertical-align: middle;\n",
              "    }\n",
              "\n",
              "    .dataframe tbody tr th {\n",
              "        vertical-align: top;\n",
              "    }\n",
              "\n",
              "    .dataframe thead th {\n",
              "        text-align: right;\n",
              "    }\n",
              "</style>\n",
              "<table border=\"1\" class=\"dataframe\">\n",
              "  <thead>\n",
              "    <tr style=\"text-align: right;\">\n",
              "      <th></th>\n",
              "      <th>state_fips</th>\n",
              "      <th>county_fips</th>\n",
              "      <th>county</th>\n",
              "      <th>state</th>\n",
              "    </tr>\n",
              "  </thead>\n",
              "  <tbody>\n",
              "    <tr>\n",
              "      <th>40302</th>\n",
              "      <td>51</td>\n",
              "      <td>810</td>\n",
              "      <td>Virginia Beach city</td>\n",
              "      <td>Virginia</td>\n",
              "    </tr>\n",
              "  </tbody>\n",
              "</table>\n",
              "</div>"
            ],
            "text/plain": [
              "      state_fips county_fips               county     state\n",
              "40302         51         810  Virginia Beach city  Virginia"
            ]
          },
          "metadata": {
            "tags": []
          },
          "execution_count": 141
        }
      ]
    },
    {
      "cell_type": "markdown",
      "metadata": {
        "id": "DhRiYBmMF_H4",
        "colab_type": "text"
      },
      "source": [
        "## Preprocess Google Mobility Data"
      ]
    },
    {
      "cell_type": "code",
      "metadata": {
        "id": "-Tyxr20Dmcig",
        "colab_type": "code",
        "outputId": "ebfdbb9a-918b-43ef-ccba-26efbe623d09",
        "colab": {
          "base_uri": "https://localhost:8080/",
          "height": 197
        }
      },
      "source": [
        "google_df.head()"
      ],
      "execution_count": 7,
      "outputs": [
        {
          "output_type": "execute_result",
          "data": {
            "text/html": [
              "<div>\n",
              "<style scoped>\n",
              "    .dataframe tbody tr th:only-of-type {\n",
              "        vertical-align: middle;\n",
              "    }\n",
              "\n",
              "    .dataframe tbody tr th {\n",
              "        vertical-align: top;\n",
              "    }\n",
              "\n",
              "    .dataframe thead th {\n",
              "        text-align: right;\n",
              "    }\n",
              "</style>\n",
              "<table border=\"1\" class=\"dataframe\">\n",
              "  <thead>\n",
              "    <tr style=\"text-align: right;\">\n",
              "      <th></th>\n",
              "      <th>country_region_code</th>\n",
              "      <th>country_region</th>\n",
              "      <th>state</th>\n",
              "      <th>county</th>\n",
              "      <th>date</th>\n",
              "      <th>retail_and_rec</th>\n",
              "      <th>grocery_and_pharmacy</th>\n",
              "      <th>parks</th>\n",
              "      <th>transit_stations</th>\n",
              "      <th>workplaces</th>\n",
              "      <th>residential</th>\n",
              "    </tr>\n",
              "  </thead>\n",
              "  <tbody>\n",
              "    <tr>\n",
              "      <th>0</th>\n",
              "      <td>AE</td>\n",
              "      <td>United Arab Emirates</td>\n",
              "      <td>NaN</td>\n",
              "      <td>NaN</td>\n",
              "      <td>2020-02-15</td>\n",
              "      <td>0.0</td>\n",
              "      <td>4.0</td>\n",
              "      <td>5.0</td>\n",
              "      <td>0.0</td>\n",
              "      <td>2.0</td>\n",
              "      <td>1.0</td>\n",
              "    </tr>\n",
              "    <tr>\n",
              "      <th>1</th>\n",
              "      <td>AE</td>\n",
              "      <td>United Arab Emirates</td>\n",
              "      <td>NaN</td>\n",
              "      <td>NaN</td>\n",
              "      <td>2020-02-16</td>\n",
              "      <td>1.0</td>\n",
              "      <td>4.0</td>\n",
              "      <td>4.0</td>\n",
              "      <td>1.0</td>\n",
              "      <td>2.0</td>\n",
              "      <td>1.0</td>\n",
              "    </tr>\n",
              "    <tr>\n",
              "      <th>2</th>\n",
              "      <td>AE</td>\n",
              "      <td>United Arab Emirates</td>\n",
              "      <td>NaN</td>\n",
              "      <td>NaN</td>\n",
              "      <td>2020-02-17</td>\n",
              "      <td>-1.0</td>\n",
              "      <td>1.0</td>\n",
              "      <td>5.0</td>\n",
              "      <td>1.0</td>\n",
              "      <td>2.0</td>\n",
              "      <td>1.0</td>\n",
              "    </tr>\n",
              "    <tr>\n",
              "      <th>3</th>\n",
              "      <td>AE</td>\n",
              "      <td>United Arab Emirates</td>\n",
              "      <td>NaN</td>\n",
              "      <td>NaN</td>\n",
              "      <td>2020-02-18</td>\n",
              "      <td>-2.0</td>\n",
              "      <td>1.0</td>\n",
              "      <td>5.0</td>\n",
              "      <td>0.0</td>\n",
              "      <td>2.0</td>\n",
              "      <td>1.0</td>\n",
              "    </tr>\n",
              "    <tr>\n",
              "      <th>4</th>\n",
              "      <td>AE</td>\n",
              "      <td>United Arab Emirates</td>\n",
              "      <td>NaN</td>\n",
              "      <td>NaN</td>\n",
              "      <td>2020-02-19</td>\n",
              "      <td>-2.0</td>\n",
              "      <td>0.0</td>\n",
              "      <td>4.0</td>\n",
              "      <td>-1.0</td>\n",
              "      <td>2.0</td>\n",
              "      <td>1.0</td>\n",
              "    </tr>\n",
              "  </tbody>\n",
              "</table>\n",
              "</div>"
            ],
            "text/plain": [
              "  country_region_code        country_region  ... workplaces residential\n",
              "0                  AE  United Arab Emirates  ...        2.0         1.0\n",
              "1                  AE  United Arab Emirates  ...        2.0         1.0\n",
              "2                  AE  United Arab Emirates  ...        2.0         1.0\n",
              "3                  AE  United Arab Emirates  ...        2.0         1.0\n",
              "4                  AE  United Arab Emirates  ...        2.0         1.0\n",
              "\n",
              "[5 rows x 11 columns]"
            ]
          },
          "metadata": {
            "tags": []
          },
          "execution_count": 7
        }
      ]
    },
    {
      "cell_type": "code",
      "metadata": {
        "id": "ywbFJB1WGxrP",
        "colab_type": "code",
        "outputId": "a8cefba2-1547-43be-ab6f-ab32243c0063",
        "colab": {
          "base_uri": "https://localhost:8080/",
          "height": 230
        }
      },
      "source": [
        "# change date to datetime\n",
        "google_df['date'] = pd.to_datetime(google_df['date'])\n",
        "google_df.dtypes"
      ],
      "execution_count": 8,
      "outputs": [
        {
          "output_type": "execute_result",
          "data": {
            "text/plain": [
              "country_region_code             object\n",
              "country_region                  object\n",
              "state                           object\n",
              "county                          object\n",
              "date                    datetime64[ns]\n",
              "retail_and_rec                 float64\n",
              "grocery_and_pharmacy           float64\n",
              "parks                          float64\n",
              "transit_stations               float64\n",
              "workplaces                     float64\n",
              "residential                    float64\n",
              "dtype: object"
            ]
          },
          "metadata": {
            "tags": []
          },
          "execution_count": 8
        }
      ]
    },
    {
      "cell_type": "code",
      "metadata": {
        "id": "KmVlFtaXGK3W",
        "colab_type": "code",
        "outputId": "7bbd00f2-a1b2-489e-d4dd-7c0ef14dd581",
        "colab": {
          "base_uri": "https://localhost:8080/",
          "height": 197
        }
      },
      "source": [
        "# only keep data for counties\n",
        "df = google_df.loc[google_df['country_region_code'] == 'US'] \n",
        "df.head()"
      ],
      "execution_count": 9,
      "outputs": [
        {
          "output_type": "execute_result",
          "data": {
            "text/html": [
              "<div>\n",
              "<style scoped>\n",
              "    .dataframe tbody tr th:only-of-type {\n",
              "        vertical-align: middle;\n",
              "    }\n",
              "\n",
              "    .dataframe tbody tr th {\n",
              "        vertical-align: top;\n",
              "    }\n",
              "\n",
              "    .dataframe thead th {\n",
              "        text-align: right;\n",
              "    }\n",
              "</style>\n",
              "<table border=\"1\" class=\"dataframe\">\n",
              "  <thead>\n",
              "    <tr style=\"text-align: right;\">\n",
              "      <th></th>\n",
              "      <th>country_region_code</th>\n",
              "      <th>country_region</th>\n",
              "      <th>state</th>\n",
              "      <th>county</th>\n",
              "      <th>date</th>\n",
              "      <th>retail_and_rec</th>\n",
              "      <th>grocery_and_pharmacy</th>\n",
              "      <th>parks</th>\n",
              "      <th>transit_stations</th>\n",
              "      <th>workplaces</th>\n",
              "      <th>residential</th>\n",
              "    </tr>\n",
              "  </thead>\n",
              "  <tbody>\n",
              "    <tr>\n",
              "      <th>111798</th>\n",
              "      <td>US</td>\n",
              "      <td>United States</td>\n",
              "      <td>NaN</td>\n",
              "      <td>NaN</td>\n",
              "      <td>2020-02-15</td>\n",
              "      <td>6.0</td>\n",
              "      <td>2.0</td>\n",
              "      <td>15.0</td>\n",
              "      <td>3.0</td>\n",
              "      <td>2.0</td>\n",
              "      <td>-1.0</td>\n",
              "    </tr>\n",
              "    <tr>\n",
              "      <th>111799</th>\n",
              "      <td>US</td>\n",
              "      <td>United States</td>\n",
              "      <td>NaN</td>\n",
              "      <td>NaN</td>\n",
              "      <td>2020-02-16</td>\n",
              "      <td>7.0</td>\n",
              "      <td>1.0</td>\n",
              "      <td>16.0</td>\n",
              "      <td>2.0</td>\n",
              "      <td>0.0</td>\n",
              "      <td>-1.0</td>\n",
              "    </tr>\n",
              "    <tr>\n",
              "      <th>111800</th>\n",
              "      <td>US</td>\n",
              "      <td>United States</td>\n",
              "      <td>NaN</td>\n",
              "      <td>NaN</td>\n",
              "      <td>2020-02-17</td>\n",
              "      <td>6.0</td>\n",
              "      <td>0.0</td>\n",
              "      <td>28.0</td>\n",
              "      <td>-9.0</td>\n",
              "      <td>-24.0</td>\n",
              "      <td>5.0</td>\n",
              "    </tr>\n",
              "    <tr>\n",
              "      <th>111801</th>\n",
              "      <td>US</td>\n",
              "      <td>United States</td>\n",
              "      <td>NaN</td>\n",
              "      <td>NaN</td>\n",
              "      <td>2020-02-18</td>\n",
              "      <td>0.0</td>\n",
              "      <td>-1.0</td>\n",
              "      <td>6.0</td>\n",
              "      <td>1.0</td>\n",
              "      <td>0.0</td>\n",
              "      <td>1.0</td>\n",
              "    </tr>\n",
              "    <tr>\n",
              "      <th>111802</th>\n",
              "      <td>US</td>\n",
              "      <td>United States</td>\n",
              "      <td>NaN</td>\n",
              "      <td>NaN</td>\n",
              "      <td>2020-02-19</td>\n",
              "      <td>2.0</td>\n",
              "      <td>0.0</td>\n",
              "      <td>8.0</td>\n",
              "      <td>1.0</td>\n",
              "      <td>1.0</td>\n",
              "      <td>0.0</td>\n",
              "    </tr>\n",
              "  </tbody>\n",
              "</table>\n",
              "</div>"
            ],
            "text/plain": [
              "       country_region_code country_region  ... workplaces residential\n",
              "111798                  US  United States  ...        2.0        -1.0\n",
              "111799                  US  United States  ...        0.0        -1.0\n",
              "111800                  US  United States  ...      -24.0         5.0\n",
              "111801                  US  United States  ...        0.0         1.0\n",
              "111802                  US  United States  ...        1.0         0.0\n",
              "\n",
              "[5 rows x 11 columns]"
            ]
          },
          "metadata": {
            "tags": []
          },
          "execution_count": 9
        }
      ]
    },
    {
      "cell_type": "code",
      "metadata": {
        "id": "jySa86QPIXP0",
        "colab_type": "code",
        "colab": {}
      },
      "source": [
        "df = df.dropna(subset=['county']).reset_index()"
      ],
      "execution_count": 0,
      "outputs": []
    },
    {
      "cell_type": "code",
      "metadata": {
        "id": "RR-uLxKFJEoe",
        "colab_type": "code",
        "colab": {}
      },
      "source": [
        "df = df.drop(columns=['index','country_region_code', 'country_region'])"
      ],
      "execution_count": 0,
      "outputs": []
    },
    {
      "cell_type": "code",
      "metadata": {
        "id": "jrrZ22tCpuhB",
        "colab_type": "code",
        "colab": {}
      },
      "source": [
        "# get day of week\n",
        "df['day_of_week'] = df['date'].dt.dayofweek"
      ],
      "execution_count": 0,
      "outputs": []
    },
    {
      "cell_type": "code",
      "metadata": {
        "id": "rTMit_hwv-9n",
        "colab_type": "code",
        "colab": {
          "base_uri": "https://localhost:8080/",
          "height": 34
        },
        "outputId": "28437c6e-7383-4167-9ddb-f5a06f71d3ac"
      },
      "source": [
        "df.shape"
      ],
      "execution_count": 15,
      "outputs": [
        {
          "output_type": "execute_result",
          "data": {
            "text/plain": [
              "(242747, 10)"
            ]
          },
          "metadata": {
            "tags": []
          },
          "execution_count": 15
        }
      ]
    },
    {
      "cell_type": "code",
      "metadata": {
        "id": "hvcId8wjuu5G",
        "colab_type": "code",
        "colab": {}
      },
      "source": [
        "# add county fips\n",
        "df = df.merge(county_fips, how='left', on=['county','state'])"
      ],
      "execution_count": 0,
      "outputs": []
    },
    {
      "cell_type": "code",
      "metadata": {
        "id": "UPH7N2EtSV-2",
        "colab_type": "code",
        "colab": {}
      },
      "source": [
        "# check that virginia beach is 810"
      ],
      "execution_count": 0,
      "outputs": []
    },
    {
      "cell_type": "code",
      "metadata": {
        "id": "WdTHFLyoSaRn",
        "colab_type": "code",
        "colab": {}
      },
      "source": [
        "# check anchorage 020"
      ],
      "execution_count": 0,
      "outputs": []
    },
    {
      "cell_type": "code",
      "metadata": {
        "id": "whhLsyAkSbVT",
        "colab_type": "code",
        "colab": {}
      },
      "source": [
        "# check st louis "
      ],
      "execution_count": 0,
      "outputs": []
    },
    {
      "cell_type": "code",
      "metadata": {
        "id": "TyTB4uvCJuW-",
        "colab_type": "code",
        "outputId": "e1b1580f-f081-40b5-849a-21eb891fec45",
        "colab": {
          "base_uri": "https://localhost:8080/",
          "height": 197
        }
      },
      "source": [
        "# reorder columns\n",
        "df = df[['state', 'county', 'state_fips', 'county_fips','date', 'day_of_week', 'retail_and_rec', 'grocery_and_pharmacy',\n",
        "       'parks', 'transit_stations', 'workplaces', 'residential']]\n",
        "df.head()"
      ],
      "execution_count": 18,
      "outputs": [
        {
          "output_type": "execute_result",
          "data": {
            "text/html": [
              "<div>\n",
              "<style scoped>\n",
              "    .dataframe tbody tr th:only-of-type {\n",
              "        vertical-align: middle;\n",
              "    }\n",
              "\n",
              "    .dataframe tbody tr th {\n",
              "        vertical-align: top;\n",
              "    }\n",
              "\n",
              "    .dataframe thead th {\n",
              "        text-align: right;\n",
              "    }\n",
              "</style>\n",
              "<table border=\"1\" class=\"dataframe\">\n",
              "  <thead>\n",
              "    <tr style=\"text-align: right;\">\n",
              "      <th></th>\n",
              "      <th>state</th>\n",
              "      <th>county</th>\n",
              "      <th>state_fips</th>\n",
              "      <th>county_fips</th>\n",
              "      <th>date</th>\n",
              "      <th>day_of_week</th>\n",
              "      <th>retail_and_rec</th>\n",
              "      <th>grocery_and_pharmacy</th>\n",
              "      <th>parks</th>\n",
              "      <th>transit_stations</th>\n",
              "      <th>workplaces</th>\n",
              "      <th>residential</th>\n",
              "    </tr>\n",
              "  </thead>\n",
              "  <tbody>\n",
              "    <tr>\n",
              "      <th>0</th>\n",
              "      <td>Alabama</td>\n",
              "      <td>Autauga County</td>\n",
              "      <td>01</td>\n",
              "      <td>001</td>\n",
              "      <td>2020-02-15</td>\n",
              "      <td>5</td>\n",
              "      <td>5.0</td>\n",
              "      <td>7.0</td>\n",
              "      <td>NaN</td>\n",
              "      <td>NaN</td>\n",
              "      <td>-4.0</td>\n",
              "      <td>NaN</td>\n",
              "    </tr>\n",
              "    <tr>\n",
              "      <th>1</th>\n",
              "      <td>Alabama</td>\n",
              "      <td>Autauga County</td>\n",
              "      <td>01</td>\n",
              "      <td>001</td>\n",
              "      <td>2020-02-16</td>\n",
              "      <td>6</td>\n",
              "      <td>0.0</td>\n",
              "      <td>1.0</td>\n",
              "      <td>-23.0</td>\n",
              "      <td>NaN</td>\n",
              "      <td>-4.0</td>\n",
              "      <td>NaN</td>\n",
              "    </tr>\n",
              "    <tr>\n",
              "      <th>2</th>\n",
              "      <td>Alabama</td>\n",
              "      <td>Autauga County</td>\n",
              "      <td>01</td>\n",
              "      <td>001</td>\n",
              "      <td>2020-02-17</td>\n",
              "      <td>0</td>\n",
              "      <td>8.0</td>\n",
              "      <td>0.0</td>\n",
              "      <td>NaN</td>\n",
              "      <td>NaN</td>\n",
              "      <td>-27.0</td>\n",
              "      <td>5.0</td>\n",
              "    </tr>\n",
              "    <tr>\n",
              "      <th>3</th>\n",
              "      <td>Alabama</td>\n",
              "      <td>Autauga County</td>\n",
              "      <td>01</td>\n",
              "      <td>001</td>\n",
              "      <td>2020-02-18</td>\n",
              "      <td>1</td>\n",
              "      <td>-2.0</td>\n",
              "      <td>0.0</td>\n",
              "      <td>NaN</td>\n",
              "      <td>NaN</td>\n",
              "      <td>2.0</td>\n",
              "      <td>0.0</td>\n",
              "    </tr>\n",
              "    <tr>\n",
              "      <th>4</th>\n",
              "      <td>Alabama</td>\n",
              "      <td>Autauga County</td>\n",
              "      <td>01</td>\n",
              "      <td>001</td>\n",
              "      <td>2020-02-19</td>\n",
              "      <td>2</td>\n",
              "      <td>-2.0</td>\n",
              "      <td>0.0</td>\n",
              "      <td>NaN</td>\n",
              "      <td>NaN</td>\n",
              "      <td>2.0</td>\n",
              "      <td>0.0</td>\n",
              "    </tr>\n",
              "  </tbody>\n",
              "</table>\n",
              "</div>"
            ],
            "text/plain": [
              "     state          county  ... workplaces residential\n",
              "0  Alabama  Autauga County  ...       -4.0         NaN\n",
              "1  Alabama  Autauga County  ...       -4.0         NaN\n",
              "2  Alabama  Autauga County  ...      -27.0         5.0\n",
              "3  Alabama  Autauga County  ...        2.0         0.0\n",
              "4  Alabama  Autauga County  ...        2.0         0.0\n",
              "\n",
              "[5 rows x 12 columns]"
            ]
          },
          "metadata": {
            "tags": []
          },
          "execution_count": 18
        }
      ]
    },
    {
      "cell_type": "code",
      "metadata": {
        "id": "NO3ZIAS-J9bU",
        "colab_type": "code",
        "outputId": "fc67d0ae-c530-4523-84e8-97d0b80831c1",
        "colab": {
          "base_uri": "https://localhost:8080/",
          "height": 287
        }
      },
      "source": [
        "df.describe()"
      ],
      "execution_count": 19,
      "outputs": [
        {
          "output_type": "execute_result",
          "data": {
            "text/html": [
              "<div>\n",
              "<style scoped>\n",
              "    .dataframe tbody tr th:only-of-type {\n",
              "        vertical-align: middle;\n",
              "    }\n",
              "\n",
              "    .dataframe tbody tr th {\n",
              "        vertical-align: top;\n",
              "    }\n",
              "\n",
              "    .dataframe thead th {\n",
              "        text-align: right;\n",
              "    }\n",
              "</style>\n",
              "<table border=\"1\" class=\"dataframe\">\n",
              "  <thead>\n",
              "    <tr style=\"text-align: right;\">\n",
              "      <th></th>\n",
              "      <th>day_of_week</th>\n",
              "      <th>retail_and_rec</th>\n",
              "      <th>grocery_and_pharmacy</th>\n",
              "      <th>parks</th>\n",
              "      <th>transit_stations</th>\n",
              "      <th>workplaces</th>\n",
              "      <th>residential</th>\n",
              "    </tr>\n",
              "  </thead>\n",
              "  <tbody>\n",
              "    <tr>\n",
              "      <th>count</th>\n",
              "      <td>242747.000000</td>\n",
              "      <td>178314.000000</td>\n",
              "      <td>170226.000000</td>\n",
              "      <td>59632.000000</td>\n",
              "      <td>91877.000000</td>\n",
              "      <td>232592.000000</td>\n",
              "      <td>107037.000000</td>\n",
              "    </tr>\n",
              "    <tr>\n",
              "      <th>mean</th>\n",
              "      <td>2.916666</td>\n",
              "      <td>-14.325241</td>\n",
              "      <td>0.602898</td>\n",
              "      <td>11.852613</td>\n",
              "      <td>-15.712170</td>\n",
              "      <td>-22.497003</td>\n",
              "      <td>9.407794</td>\n",
              "    </tr>\n",
              "    <tr>\n",
              "      <th>std</th>\n",
              "      <td>1.969375</td>\n",
              "      <td>23.687440</td>\n",
              "      <td>15.552082</td>\n",
              "      <td>44.537799</td>\n",
              "      <td>24.149703</td>\n",
              "      <td>18.588260</td>\n",
              "      <td>8.391851</td>\n",
              "    </tr>\n",
              "    <tr>\n",
              "      <th>min</th>\n",
              "      <td>0.000000</td>\n",
              "      <td>-100.000000</td>\n",
              "      <td>-81.000000</td>\n",
              "      <td>-91.000000</td>\n",
              "      <td>-91.000000</td>\n",
              "      <td>-81.000000</td>\n",
              "      <td>-11.000000</td>\n",
              "    </tr>\n",
              "    <tr>\n",
              "      <th>25%</th>\n",
              "      <td>1.000000</td>\n",
              "      <td>-33.000000</td>\n",
              "      <td>-9.000000</td>\n",
              "      <td>-17.000000</td>\n",
              "      <td>-32.000000</td>\n",
              "      <td>-36.000000</td>\n",
              "      <td>0.000000</td>\n",
              "    </tr>\n",
              "    <tr>\n",
              "      <th>50%</th>\n",
              "      <td>3.000000</td>\n",
              "      <td>-14.000000</td>\n",
              "      <td>1.000000</td>\n",
              "      <td>7.000000</td>\n",
              "      <td>-13.000000</td>\n",
              "      <td>-26.000000</td>\n",
              "      <td>10.000000</td>\n",
              "    </tr>\n",
              "    <tr>\n",
              "      <th>75%</th>\n",
              "      <td>5.000000</td>\n",
              "      <td>6.000000</td>\n",
              "      <td>9.000000</td>\n",
              "      <td>34.000000</td>\n",
              "      <td>2.000000</td>\n",
              "      <td>-2.000000</td>\n",
              "      <td>16.000000</td>\n",
              "    </tr>\n",
              "    <tr>\n",
              "      <th>max</th>\n",
              "      <td>6.000000</td>\n",
              "      <td>226.000000</td>\n",
              "      <td>174.000000</td>\n",
              "      <td>468.000000</td>\n",
              "      <td>222.000000</td>\n",
              "      <td>43.000000</td>\n",
              "      <td>38.000000</td>\n",
              "    </tr>\n",
              "  </tbody>\n",
              "</table>\n",
              "</div>"
            ],
            "text/plain": [
              "         day_of_week  retail_and_rec  ...     workplaces    residential\n",
              "count  242747.000000   178314.000000  ...  232592.000000  107037.000000\n",
              "mean        2.916666      -14.325241  ...     -22.497003       9.407794\n",
              "std         1.969375       23.687440  ...      18.588260       8.391851\n",
              "min         0.000000     -100.000000  ...     -81.000000     -11.000000\n",
              "25%         1.000000      -33.000000  ...     -36.000000       0.000000\n",
              "50%         3.000000      -14.000000  ...     -26.000000      10.000000\n",
              "75%         5.000000        6.000000  ...      -2.000000      16.000000\n",
              "max         6.000000      226.000000  ...      43.000000      38.000000\n",
              "\n",
              "[8 rows x 7 columns]"
            ]
          },
          "metadata": {
            "tags": []
          },
          "execution_count": 19
        }
      ]
    },
    {
      "cell_type": "code",
      "metadata": {
        "id": "xcmfq4WrR1Vy",
        "colab_type": "code",
        "colab": {
          "base_uri": "https://localhost:8080/",
          "height": 406
        },
        "outputId": "f5783b51-0396-4fc1-c61d-0757e6b77fe4"
      },
      "source": [
        "df[df['county'] == 'Virginia Beach']"
      ],
      "execution_count": 142,
      "outputs": [
        {
          "output_type": "execute_result",
          "data": {
            "text/html": [
              "<div>\n",
              "<style scoped>\n",
              "    .dataframe tbody tr th:only-of-type {\n",
              "        vertical-align: middle;\n",
              "    }\n",
              "\n",
              "    .dataframe tbody tr th {\n",
              "        vertical-align: top;\n",
              "    }\n",
              "\n",
              "    .dataframe thead th {\n",
              "        text-align: right;\n",
              "    }\n",
              "</style>\n",
              "<table border=\"1\" class=\"dataframe\">\n",
              "  <thead>\n",
              "    <tr style=\"text-align: right;\">\n",
              "      <th></th>\n",
              "      <th>state</th>\n",
              "      <th>county</th>\n",
              "      <th>state_fips</th>\n",
              "      <th>county_fips</th>\n",
              "      <th>date</th>\n",
              "      <th>day_of_week</th>\n",
              "      <th>retail_and_rec</th>\n",
              "      <th>grocery_and_pharmacy</th>\n",
              "      <th>parks</th>\n",
              "      <th>transit_stations</th>\n",
              "      <th>workplaces</th>\n",
              "      <th>residential</th>\n",
              "    </tr>\n",
              "  </thead>\n",
              "  <tbody>\n",
              "    <tr>\n",
              "      <th>226561</th>\n",
              "      <td>Virginia</td>\n",
              "      <td>Virginia Beach</td>\n",
              "      <td>NaN</td>\n",
              "      <td>NaN</td>\n",
              "      <td>2020-02-15</td>\n",
              "      <td>5</td>\n",
              "      <td>4.0</td>\n",
              "      <td>0.0</td>\n",
              "      <td>8.0</td>\n",
              "      <td>-3.0</td>\n",
              "      <td>1.0</td>\n",
              "      <td>0.0</td>\n",
              "    </tr>\n",
              "    <tr>\n",
              "      <th>226562</th>\n",
              "      <td>Virginia</td>\n",
              "      <td>Virginia Beach</td>\n",
              "      <td>NaN</td>\n",
              "      <td>NaN</td>\n",
              "      <td>2020-02-16</td>\n",
              "      <td>6</td>\n",
              "      <td>6.0</td>\n",
              "      <td>2.0</td>\n",
              "      <td>5.0</td>\n",
              "      <td>6.0</td>\n",
              "      <td>-1.0</td>\n",
              "      <td>-1.0</td>\n",
              "    </tr>\n",
              "    <tr>\n",
              "      <th>226563</th>\n",
              "      <td>Virginia</td>\n",
              "      <td>Virginia Beach</td>\n",
              "      <td>NaN</td>\n",
              "      <td>NaN</td>\n",
              "      <td>2020-02-17</td>\n",
              "      <td>0</td>\n",
              "      <td>11.0</td>\n",
              "      <td>3.0</td>\n",
              "      <td>59.0</td>\n",
              "      <td>-4.0</td>\n",
              "      <td>-31.0</td>\n",
              "      <td>7.0</td>\n",
              "    </tr>\n",
              "    <tr>\n",
              "      <th>226564</th>\n",
              "      <td>Virginia</td>\n",
              "      <td>Virginia Beach</td>\n",
              "      <td>NaN</td>\n",
              "      <td>NaN</td>\n",
              "      <td>2020-02-18</td>\n",
              "      <td>1</td>\n",
              "      <td>2.0</td>\n",
              "      <td>2.0</td>\n",
              "      <td>21.0</td>\n",
              "      <td>6.0</td>\n",
              "      <td>2.0</td>\n",
              "      <td>0.0</td>\n",
              "    </tr>\n",
              "    <tr>\n",
              "      <th>226565</th>\n",
              "      <td>Virginia</td>\n",
              "      <td>Virginia Beach</td>\n",
              "      <td>NaN</td>\n",
              "      <td>NaN</td>\n",
              "      <td>2020-02-19</td>\n",
              "      <td>2</td>\n",
              "      <td>2.0</td>\n",
              "      <td>1.0</td>\n",
              "      <td>1.0</td>\n",
              "      <td>-8.0</td>\n",
              "      <td>1.0</td>\n",
              "      <td>0.0</td>\n",
              "    </tr>\n",
              "    <tr>\n",
              "      <th>...</th>\n",
              "      <td>...</td>\n",
              "      <td>...</td>\n",
              "      <td>...</td>\n",
              "      <td>...</td>\n",
              "      <td>...</td>\n",
              "      <td>...</td>\n",
              "      <td>...</td>\n",
              "      <td>...</td>\n",
              "      <td>...</td>\n",
              "      <td>...</td>\n",
              "      <td>...</td>\n",
              "      <td>...</td>\n",
              "    </tr>\n",
              "    <tr>\n",
              "      <th>226648</th>\n",
              "      <td>Virginia</td>\n",
              "      <td>Virginia Beach</td>\n",
              "      <td>NaN</td>\n",
              "      <td>NaN</td>\n",
              "      <td>2020-05-12</td>\n",
              "      <td>1</td>\n",
              "      <td>-24.0</td>\n",
              "      <td>-1.0</td>\n",
              "      <td>46.0</td>\n",
              "      <td>-32.0</td>\n",
              "      <td>-42.0</td>\n",
              "      <td>17.0</td>\n",
              "    </tr>\n",
              "    <tr>\n",
              "      <th>226649</th>\n",
              "      <td>Virginia</td>\n",
              "      <td>Virginia Beach</td>\n",
              "      <td>NaN</td>\n",
              "      <td>NaN</td>\n",
              "      <td>2020-05-13</td>\n",
              "      <td>2</td>\n",
              "      <td>-22.0</td>\n",
              "      <td>0.0</td>\n",
              "      <td>53.0</td>\n",
              "      <td>-32.0</td>\n",
              "      <td>-43.0</td>\n",
              "      <td>16.0</td>\n",
              "    </tr>\n",
              "    <tr>\n",
              "      <th>226650</th>\n",
              "      <td>Virginia</td>\n",
              "      <td>Virginia Beach</td>\n",
              "      <td>NaN</td>\n",
              "      <td>NaN</td>\n",
              "      <td>2020-05-14</td>\n",
              "      <td>3</td>\n",
              "      <td>-24.0</td>\n",
              "      <td>-1.0</td>\n",
              "      <td>55.0</td>\n",
              "      <td>-31.0</td>\n",
              "      <td>-43.0</td>\n",
              "      <td>NaN</td>\n",
              "    </tr>\n",
              "    <tr>\n",
              "      <th>226651</th>\n",
              "      <td>Virginia</td>\n",
              "      <td>Virginia Beach</td>\n",
              "      <td>NaN</td>\n",
              "      <td>NaN</td>\n",
              "      <td>2020-05-15</td>\n",
              "      <td>4</td>\n",
              "      <td>-22.0</td>\n",
              "      <td>0.0</td>\n",
              "      <td>71.0</td>\n",
              "      <td>-33.0</td>\n",
              "      <td>-43.0</td>\n",
              "      <td>16.0</td>\n",
              "    </tr>\n",
              "    <tr>\n",
              "      <th>226652</th>\n",
              "      <td>Virginia</td>\n",
              "      <td>Virginia Beach</td>\n",
              "      <td>NaN</td>\n",
              "      <td>NaN</td>\n",
              "      <td>2020-05-16</td>\n",
              "      <td>5</td>\n",
              "      <td>-25.0</td>\n",
              "      <td>2.0</td>\n",
              "      <td>82.0</td>\n",
              "      <td>-21.0</td>\n",
              "      <td>-24.0</td>\n",
              "      <td>7.0</td>\n",
              "    </tr>\n",
              "  </tbody>\n",
              "</table>\n",
              "<p>92 rows × 12 columns</p>\n",
              "</div>"
            ],
            "text/plain": [
              "           state          county  ... workplaces residential\n",
              "226561  Virginia  Virginia Beach  ...        1.0         0.0\n",
              "226562  Virginia  Virginia Beach  ...       -1.0        -1.0\n",
              "226563  Virginia  Virginia Beach  ...      -31.0         7.0\n",
              "226564  Virginia  Virginia Beach  ...        2.0         0.0\n",
              "226565  Virginia  Virginia Beach  ...        1.0         0.0\n",
              "...          ...             ...  ...        ...         ...\n",
              "226648  Virginia  Virginia Beach  ...      -42.0        17.0\n",
              "226649  Virginia  Virginia Beach  ...      -43.0        16.0\n",
              "226650  Virginia  Virginia Beach  ...      -43.0         NaN\n",
              "226651  Virginia  Virginia Beach  ...      -43.0        16.0\n",
              "226652  Virginia  Virginia Beach  ...      -24.0         7.0\n",
              "\n",
              "[92 rows x 12 columns]"
            ]
          },
          "metadata": {
            "tags": []
          },
          "execution_count": 142
        }
      ]
    },
    {
      "cell_type": "markdown",
      "metadata": {
        "id": "l7CnvHhfGF6R",
        "colab_type": "text"
      },
      "source": [
        "## Preprocess Population Data\n"
      ]
    },
    {
      "cell_type": "code",
      "metadata": {
        "id": "KOfZNc8ZFyHW",
        "colab_type": "code",
        "outputId": "584996d4-fec8-45ed-8c8b-1346df469b5b",
        "colab": {
          "base_uri": "https://localhost:8080/",
          "height": 197
        }
      },
      "source": [
        "population_df.head()"
      ],
      "execution_count": 20,
      "outputs": [
        {
          "output_type": "execute_result",
          "data": {
            "text/html": [
              "<div>\n",
              "<style scoped>\n",
              "    .dataframe tbody tr th:only-of-type {\n",
              "        vertical-align: middle;\n",
              "    }\n",
              "\n",
              "    .dataframe tbody tr th {\n",
              "        vertical-align: top;\n",
              "    }\n",
              "\n",
              "    .dataframe thead th {\n",
              "        text-align: right;\n",
              "    }\n",
              "</style>\n",
              "<table border=\"1\" class=\"dataframe\">\n",
              "  <thead>\n",
              "    <tr style=\"text-align: right;\">\n",
              "      <th></th>\n",
              "      <th>county</th>\n",
              "      <th>state</th>\n",
              "      <th>population</th>\n",
              "    </tr>\n",
              "  </thead>\n",
              "  <tbody>\n",
              "    <tr>\n",
              "      <th>0</th>\n",
              "      <td>Autauga County</td>\n",
              "      <td>Alabama</td>\n",
              "      <td>55869</td>\n",
              "    </tr>\n",
              "    <tr>\n",
              "      <th>1</th>\n",
              "      <td>Baldwin County</td>\n",
              "      <td>Alabama</td>\n",
              "      <td>223234</td>\n",
              "    </tr>\n",
              "    <tr>\n",
              "      <th>2</th>\n",
              "      <td>Barbour County</td>\n",
              "      <td>Alabama</td>\n",
              "      <td>24686</td>\n",
              "    </tr>\n",
              "    <tr>\n",
              "      <th>3</th>\n",
              "      <td>Bibb County</td>\n",
              "      <td>Alabama</td>\n",
              "      <td>22394</td>\n",
              "    </tr>\n",
              "    <tr>\n",
              "      <th>4</th>\n",
              "      <td>Blount County</td>\n",
              "      <td>Alabama</td>\n",
              "      <td>57826</td>\n",
              "    </tr>\n",
              "  </tbody>\n",
              "</table>\n",
              "</div>"
            ],
            "text/plain": [
              "           county    state  population\n",
              "0  Autauga County  Alabama       55869\n",
              "1  Baldwin County  Alabama      223234\n",
              "2  Barbour County  Alabama       24686\n",
              "3     Bibb County  Alabama       22394\n",
              "4   Blount County  Alabama       57826"
            ]
          },
          "metadata": {
            "tags": []
          },
          "execution_count": 20
        }
      ]
    },
    {
      "cell_type": "code",
      "metadata": {
        "id": "ddhsAcgOKQ3C",
        "colab_type": "code",
        "outputId": "4733dc45-18d4-4b1a-b177-65b5b85ba274",
        "colab": {
          "base_uri": "https://localhost:8080/",
          "height": 87
        }
      },
      "source": [
        "population_df.dtypes"
      ],
      "execution_count": 21,
      "outputs": [
        {
          "output_type": "execute_result",
          "data": {
            "text/plain": [
              "county        object\n",
              "state         object\n",
              "population     int64\n",
              "dtype: object"
            ]
          },
          "metadata": {
            "tags": []
          },
          "execution_count": 21
        }
      ]
    },
    {
      "cell_type": "markdown",
      "metadata": {
        "id": "SBdj_muJLaO3",
        "colab_type": "text"
      },
      "source": [
        "## Preprocess Coronavirus Count Data"
      ]
    },
    {
      "cell_type": "code",
      "metadata": {
        "id": "LqFpOCrwLWvf",
        "colab_type": "code",
        "colab": {}
      },
      "source": [
        "case_count_url = 'https://raw.githubusercontent.com/nytimes/covid-19-data/master/us-counties.csv'\n",
        "case_count_df = pd.read_csv(case_count_url, usecols=['fips', 'date', 'cases'], \n",
        "                            dtype={'fips': str,\n",
        "                                   'date' : str,\n",
        "                                   'cases': int})"
      ],
      "execution_count": 0,
      "outputs": []
    },
    {
      "cell_type": "code",
      "metadata": {
        "id": "OCLSL5hwNTZT",
        "colab_type": "code",
        "outputId": "4b071a2c-d918-4c58-8f55-ddf974bbabe5",
        "colab": {
          "base_uri": "https://localhost:8080/",
          "height": 197
        }
      },
      "source": [
        "case_count_df.head()"
      ],
      "execution_count": 62,
      "outputs": [
        {
          "output_type": "execute_result",
          "data": {
            "text/html": [
              "<div>\n",
              "<style scoped>\n",
              "    .dataframe tbody tr th:only-of-type {\n",
              "        vertical-align: middle;\n",
              "    }\n",
              "\n",
              "    .dataframe tbody tr th {\n",
              "        vertical-align: top;\n",
              "    }\n",
              "\n",
              "    .dataframe thead th {\n",
              "        text-align: right;\n",
              "    }\n",
              "</style>\n",
              "<table border=\"1\" class=\"dataframe\">\n",
              "  <thead>\n",
              "    <tr style=\"text-align: right;\">\n",
              "      <th></th>\n",
              "      <th>date</th>\n",
              "      <th>fips</th>\n",
              "      <th>cases</th>\n",
              "    </tr>\n",
              "  </thead>\n",
              "  <tbody>\n",
              "    <tr>\n",
              "      <th>0</th>\n",
              "      <td>2020-01-21</td>\n",
              "      <td>53061</td>\n",
              "      <td>1</td>\n",
              "    </tr>\n",
              "    <tr>\n",
              "      <th>1</th>\n",
              "      <td>2020-01-22</td>\n",
              "      <td>53061</td>\n",
              "      <td>1</td>\n",
              "    </tr>\n",
              "    <tr>\n",
              "      <th>2</th>\n",
              "      <td>2020-01-23</td>\n",
              "      <td>53061</td>\n",
              "      <td>1</td>\n",
              "    </tr>\n",
              "    <tr>\n",
              "      <th>3</th>\n",
              "      <td>2020-01-24</td>\n",
              "      <td>17031</td>\n",
              "      <td>1</td>\n",
              "    </tr>\n",
              "    <tr>\n",
              "      <th>4</th>\n",
              "      <td>2020-01-24</td>\n",
              "      <td>53061</td>\n",
              "      <td>1</td>\n",
              "    </tr>\n",
              "  </tbody>\n",
              "</table>\n",
              "</div>"
            ],
            "text/plain": [
              "         date   fips  cases\n",
              "0  2020-01-21  53061      1\n",
              "1  2020-01-22  53061      1\n",
              "2  2020-01-23  53061      1\n",
              "3  2020-01-24  17031      1\n",
              "4  2020-01-24  53061      1"
            ]
          },
          "metadata": {
            "tags": []
          },
          "execution_count": 62
        }
      ]
    },
    {
      "cell_type": "code",
      "metadata": {
        "id": "2FGDp6U5MGBf",
        "colab_type": "code",
        "outputId": "62380c03-81cb-4e37-8cb0-46d825bbcc8a",
        "colab": {
          "base_uri": "https://localhost:8080/",
          "height": 87
        }
      },
      "source": [
        "case_count_df['date'] = pd.to_datetime(case_count_df['date'])\n",
        "case_count_df.dtypes"
      ],
      "execution_count": 63,
      "outputs": [
        {
          "output_type": "execute_result",
          "data": {
            "text/plain": [
              "date     datetime64[ns]\n",
              "fips             object\n",
              "cases             int64\n",
              "dtype: object"
            ]
          },
          "metadata": {
            "tags": []
          },
          "execution_count": 63
        }
      ]
    },
    {
      "cell_type": "code",
      "metadata": {
        "id": "LbM63LD1sUBg",
        "colab_type": "code",
        "colab": {}
      },
      "source": [
        "# apply lambda function? \n",
        "def get_num_new_cases(df, row):\n",
        "  fips = row.fips\n",
        "\n",
        "  today = row.date\n",
        "  today_count = row.cases\n",
        "\n",
        "  yesterday = today - timedelta(days=1)\n",
        "  yesterday_row = df.loc[(df['fips'] == fips) & (df['date'] == yesterday)]\n",
        "  yesterday_count = 0\n",
        "\n",
        "  if not yesterday_row.empty:\n",
        "    yesterday_count = yesterday_row.cases\n",
        "  \n",
        "  return int(today_count - yesterday_count) # if first day, just today's count"
      ],
      "execution_count": 0,
      "outputs": []
    },
    {
      "cell_type": "code",
      "metadata": {
        "id": "iZuqhciM8id2",
        "colab_type": "code",
        "colab": {}
      },
      "source": [
        "test_5000 = case_count_df.head(5000)"
      ],
      "execution_count": 0,
      "outputs": []
    },
    {
      "cell_type": "code",
      "metadata": {
        "id": "lC8SIrRp521-",
        "colab_type": "code",
        "colab": {
          "base_uri": "https://localhost:8080/",
          "height": 158
        },
        "outputId": "9accae47-8b36-4474-a5d3-8d887a7d7b04"
      },
      "source": [
        "# testing 500 = 6 seconds\n",
        "print(dt.datetime.now())\n",
        "test_500['new_cases'] = test_500.apply(lambda row: get_num_new_cases(case_count_df, row), axis=1)\n",
        "print(dt.datetime.now())"
      ],
      "execution_count": 110,
      "outputs": [
        {
          "output_type": "stream",
          "text": [
            "2020-05-23 23:54:05.949273\n",
            "2020-05-23 23:54:11.732445\n"
          ],
          "name": "stdout"
        },
        {
          "output_type": "stream",
          "text": [
            "/usr/local/lib/python3.6/dist-packages/ipykernel_launcher.py:2: SettingWithCopyWarning: \n",
            "A value is trying to be set on a copy of a slice from a DataFrame.\n",
            "Try using .loc[row_indexer,col_indexer] = value instead\n",
            "\n",
            "See the caveats in the documentation: https://pandas.pydata.org/pandas-docs/stable/user_guide/indexing.html#returning-a-view-versus-a-copy\n",
            "  \n"
          ],
          "name": "stderr"
        }
      ]
    },
    {
      "cell_type": "code",
      "metadata": {
        "id": "uKPv_HjZ113S",
        "colab_type": "code",
        "colab": {
          "base_uri": "https://localhost:8080/",
          "height": 158
        },
        "outputId": "0b154ff5-3890-4a63-f8d5-e4ee890b0d9f"
      },
      "source": [
        "# 5000 = 1 min\n",
        "print(dt.datetime.now())\n",
        "test_5000['new_cases'] = test_5000.apply(lambda row: get_num_new_cases(case_count_df, row), axis=1)\n",
        "print(dt.datetime.now())"
      ],
      "execution_count": 114,
      "outputs": [
        {
          "output_type": "stream",
          "text": [
            "2020-05-23 23:55:04.822656\n",
            "2020-05-23 23:56:01.794407\n"
          ],
          "name": "stdout"
        },
        {
          "output_type": "stream",
          "text": [
            "/usr/local/lib/python3.6/dist-packages/ipykernel_launcher.py:2: SettingWithCopyWarning: \n",
            "A value is trying to be set on a copy of a slice from a DataFrame.\n",
            "Try using .loc[row_indexer,col_indexer] = value instead\n",
            "\n",
            "See the caveats in the documentation: https://pandas.pydata.org/pandas-docs/stable/user_guide/indexing.html#returning-a-view-versus-a-copy\n",
            "  \n"
          ],
          "name": "stderr"
        }
      ]
    },
    {
      "cell_type": "code",
      "metadata": {
        "id": "tiGKY6u59nQ6",
        "colab_type": "code",
        "colab": {
          "base_uri": "https://localhost:8080/",
          "height": 158
        },
        "outputId": "20f1f900-9821-4980-b9fa-cb71f05fc9e2"
      },
      "source": [
        "#10k = 2 min\n",
        "print(dt.datetime.now())\n",
        "test_10k = case_count_df.head(10000)\n",
        "test_10k['new_cases'] = test_10k.apply(lambda row: get_num_new_cases(case_count_df, row), axis=1)\n",
        "print(dt.datetime.now())"
      ],
      "execution_count": 116,
      "outputs": [
        {
          "output_type": "stream",
          "text": [
            "2020-05-23 23:58:17.610774\n",
            "2020-05-24 00:00:11.955198\n"
          ],
          "name": "stdout"
        },
        {
          "output_type": "stream",
          "text": [
            "/usr/local/lib/python3.6/dist-packages/ipykernel_launcher.py:4: SettingWithCopyWarning: \n",
            "A value is trying to be set on a copy of a slice from a DataFrame.\n",
            "Try using .loc[row_indexer,col_indexer] = value instead\n",
            "\n",
            "See the caveats in the documentation: https://pandas.pydata.org/pandas-docs/stable/user_guide/indexing.html#returning-a-view-versus-a-copy\n",
            "  after removing the cwd from sys.path.\n"
          ],
          "name": "stderr"
        }
      ]
    },
    {
      "cell_type": "code",
      "metadata": {
        "id": "6x26VsPd-2iO",
        "colab_type": "code",
        "colab": {
          "base_uri": "https://localhost:8080/",
          "height": 647
        },
        "outputId": "908e19dd-b40d-4160-df32-4c9eff008257"
      },
      "source": [
        "test_10k.head(20)"
      ],
      "execution_count": 118,
      "outputs": [
        {
          "output_type": "execute_result",
          "data": {
            "text/html": [
              "<div>\n",
              "<style scoped>\n",
              "    .dataframe tbody tr th:only-of-type {\n",
              "        vertical-align: middle;\n",
              "    }\n",
              "\n",
              "    .dataframe tbody tr th {\n",
              "        vertical-align: top;\n",
              "    }\n",
              "\n",
              "    .dataframe thead th {\n",
              "        text-align: right;\n",
              "    }\n",
              "</style>\n",
              "<table border=\"1\" class=\"dataframe\">\n",
              "  <thead>\n",
              "    <tr style=\"text-align: right;\">\n",
              "      <th></th>\n",
              "      <th>date</th>\n",
              "      <th>fips</th>\n",
              "      <th>cases</th>\n",
              "      <th>new_cases</th>\n",
              "    </tr>\n",
              "  </thead>\n",
              "  <tbody>\n",
              "    <tr>\n",
              "      <th>0</th>\n",
              "      <td>2020-01-21</td>\n",
              "      <td>53061</td>\n",
              "      <td>1</td>\n",
              "      <td>1</td>\n",
              "    </tr>\n",
              "    <tr>\n",
              "      <th>1</th>\n",
              "      <td>2020-01-22</td>\n",
              "      <td>53061</td>\n",
              "      <td>1</td>\n",
              "      <td>0</td>\n",
              "    </tr>\n",
              "    <tr>\n",
              "      <th>2</th>\n",
              "      <td>2020-01-23</td>\n",
              "      <td>53061</td>\n",
              "      <td>1</td>\n",
              "      <td>0</td>\n",
              "    </tr>\n",
              "    <tr>\n",
              "      <th>3</th>\n",
              "      <td>2020-01-24</td>\n",
              "      <td>17031</td>\n",
              "      <td>1</td>\n",
              "      <td>1</td>\n",
              "    </tr>\n",
              "    <tr>\n",
              "      <th>4</th>\n",
              "      <td>2020-01-24</td>\n",
              "      <td>53061</td>\n",
              "      <td>1</td>\n",
              "      <td>0</td>\n",
              "    </tr>\n",
              "    <tr>\n",
              "      <th>5</th>\n",
              "      <td>2020-01-25</td>\n",
              "      <td>06059</td>\n",
              "      <td>1</td>\n",
              "      <td>1</td>\n",
              "    </tr>\n",
              "    <tr>\n",
              "      <th>6</th>\n",
              "      <td>2020-01-25</td>\n",
              "      <td>17031</td>\n",
              "      <td>1</td>\n",
              "      <td>0</td>\n",
              "    </tr>\n",
              "    <tr>\n",
              "      <th>7</th>\n",
              "      <td>2020-01-25</td>\n",
              "      <td>53061</td>\n",
              "      <td>1</td>\n",
              "      <td>0</td>\n",
              "    </tr>\n",
              "    <tr>\n",
              "      <th>8</th>\n",
              "      <td>2020-01-26</td>\n",
              "      <td>04013</td>\n",
              "      <td>1</td>\n",
              "      <td>1</td>\n",
              "    </tr>\n",
              "    <tr>\n",
              "      <th>9</th>\n",
              "      <td>2020-01-26</td>\n",
              "      <td>06037</td>\n",
              "      <td>1</td>\n",
              "      <td>1</td>\n",
              "    </tr>\n",
              "    <tr>\n",
              "      <th>10</th>\n",
              "      <td>2020-01-26</td>\n",
              "      <td>06059</td>\n",
              "      <td>1</td>\n",
              "      <td>0</td>\n",
              "    </tr>\n",
              "    <tr>\n",
              "      <th>11</th>\n",
              "      <td>2020-01-26</td>\n",
              "      <td>17031</td>\n",
              "      <td>1</td>\n",
              "      <td>0</td>\n",
              "    </tr>\n",
              "    <tr>\n",
              "      <th>12</th>\n",
              "      <td>2020-01-26</td>\n",
              "      <td>53061</td>\n",
              "      <td>1</td>\n",
              "      <td>0</td>\n",
              "    </tr>\n",
              "    <tr>\n",
              "      <th>13</th>\n",
              "      <td>2020-01-27</td>\n",
              "      <td>04013</td>\n",
              "      <td>1</td>\n",
              "      <td>0</td>\n",
              "    </tr>\n",
              "    <tr>\n",
              "      <th>14</th>\n",
              "      <td>2020-01-27</td>\n",
              "      <td>06037</td>\n",
              "      <td>1</td>\n",
              "      <td>0</td>\n",
              "    </tr>\n",
              "    <tr>\n",
              "      <th>15</th>\n",
              "      <td>2020-01-27</td>\n",
              "      <td>06059</td>\n",
              "      <td>1</td>\n",
              "      <td>0</td>\n",
              "    </tr>\n",
              "    <tr>\n",
              "      <th>16</th>\n",
              "      <td>2020-01-27</td>\n",
              "      <td>17031</td>\n",
              "      <td>1</td>\n",
              "      <td>0</td>\n",
              "    </tr>\n",
              "    <tr>\n",
              "      <th>17</th>\n",
              "      <td>2020-01-27</td>\n",
              "      <td>53061</td>\n",
              "      <td>1</td>\n",
              "      <td>0</td>\n",
              "    </tr>\n",
              "    <tr>\n",
              "      <th>18</th>\n",
              "      <td>2020-01-28</td>\n",
              "      <td>04013</td>\n",
              "      <td>1</td>\n",
              "      <td>0</td>\n",
              "    </tr>\n",
              "    <tr>\n",
              "      <th>19</th>\n",
              "      <td>2020-01-28</td>\n",
              "      <td>06037</td>\n",
              "      <td>1</td>\n",
              "      <td>0</td>\n",
              "    </tr>\n",
              "  </tbody>\n",
              "</table>\n",
              "</div>"
            ],
            "text/plain": [
              "         date   fips  cases  new_cases\n",
              "0  2020-01-21  53061      1          1\n",
              "1  2020-01-22  53061      1          0\n",
              "2  2020-01-23  53061      1          0\n",
              "3  2020-01-24  17031      1          1\n",
              "4  2020-01-24  53061      1          0\n",
              "5  2020-01-25  06059      1          1\n",
              "6  2020-01-25  17031      1          0\n",
              "7  2020-01-25  53061      1          0\n",
              "8  2020-01-26  04013      1          1\n",
              "9  2020-01-26  06037      1          1\n",
              "10 2020-01-26  06059      1          0\n",
              "11 2020-01-26  17031      1          0\n",
              "12 2020-01-26  53061      1          0\n",
              "13 2020-01-27  04013      1          0\n",
              "14 2020-01-27  06037      1          0\n",
              "15 2020-01-27  06059      1          0\n",
              "16 2020-01-27  17031      1          0\n",
              "17 2020-01-27  53061      1          0\n",
              "18 2020-01-28  04013      1          0\n",
              "19 2020-01-28  06037      1          0"
            ]
          },
          "metadata": {
            "tags": []
          },
          "execution_count": 118
        }
      ]
    },
    {
      "cell_type": "code",
      "metadata": {
        "id": "SQ4IwuJo_I9D",
        "colab_type": "code",
        "colab": {
          "base_uri": "https://localhost:8080/",
          "height": 52
        },
        "outputId": "2d6c8baa-5fc3-4bb8-ba33-9cd92774593c"
      },
      "source": [
        "print(dt.datetime.now())\n",
        "case_count_df['new_cases'] = case_count_df.apply(lambda row: get_num_new_cases(case_count_df, row), axis=1)\n",
        "print(dt.datetime.now())"
      ],
      "execution_count": 121,
      "outputs": [
        {
          "output_type": "stream",
          "text": [
            "2020-05-24 00:03:42.325810\n",
            "2020-05-24 00:36:09.076088\n"
          ],
          "name": "stdout"
        }
      ]
    },
    {
      "cell_type": "code",
      "metadata": {
        "id": "ASdAngmA_OnP",
        "colab_type": "code",
        "colab": {}
      },
      "source": [
        "# save to csv\n",
        "case_count_df.to_csv('cases_by_county.csv', index=False)\n",
        "!cp cases_by_county.csv \"/content/drive/My Drive/\""
      ],
      "execution_count": 0,
      "outputs": []
    },
    {
      "cell_type": "code",
      "metadata": {
        "id": "JRrv63NOHQSz",
        "colab_type": "code",
        "colab": {
          "base_uri": "https://localhost:8080/",
          "height": 197
        },
        "outputId": "d7355e5f-9ebd-4836-a1a9-1874c7a6d542"
      },
      "source": [
        "case_count_df.tail()"
      ],
      "execution_count": 126,
      "outputs": [
        {
          "output_type": "execute_result",
          "data": {
            "text/html": [
              "<div>\n",
              "<style scoped>\n",
              "    .dataframe tbody tr th:only-of-type {\n",
              "        vertical-align: middle;\n",
              "    }\n",
              "\n",
              "    .dataframe tbody tr th {\n",
              "        vertical-align: top;\n",
              "    }\n",
              "\n",
              "    .dataframe thead th {\n",
              "        text-align: right;\n",
              "    }\n",
              "</style>\n",
              "<table border=\"1\" class=\"dataframe\">\n",
              "  <thead>\n",
              "    <tr style=\"text-align: right;\">\n",
              "      <th></th>\n",
              "      <th>date</th>\n",
              "      <th>fips</th>\n",
              "      <th>cases</th>\n",
              "      <th>new_cases</th>\n",
              "    </tr>\n",
              "  </thead>\n",
              "  <tbody>\n",
              "    <tr>\n",
              "      <th>167834</th>\n",
              "      <td>2020-05-22</td>\n",
              "      <td>56035</td>\n",
              "      <td>3</td>\n",
              "      <td>0</td>\n",
              "    </tr>\n",
              "    <tr>\n",
              "      <th>167835</th>\n",
              "      <td>2020-05-22</td>\n",
              "      <td>56037</td>\n",
              "      <td>25</td>\n",
              "      <td>0</td>\n",
              "    </tr>\n",
              "    <tr>\n",
              "      <th>167836</th>\n",
              "      <td>2020-05-22</td>\n",
              "      <td>56039</td>\n",
              "      <td>100</td>\n",
              "      <td>0</td>\n",
              "    </tr>\n",
              "    <tr>\n",
              "      <th>167837</th>\n",
              "      <td>2020-05-22</td>\n",
              "      <td>56041</td>\n",
              "      <td>13</td>\n",
              "      <td>0</td>\n",
              "    </tr>\n",
              "    <tr>\n",
              "      <th>167838</th>\n",
              "      <td>2020-05-22</td>\n",
              "      <td>56043</td>\n",
              "      <td>19</td>\n",
              "      <td>0</td>\n",
              "    </tr>\n",
              "  </tbody>\n",
              "</table>\n",
              "</div>"
            ],
            "text/plain": [
              "             date   fips  cases  new_cases\n",
              "167834 2020-05-22  56035      3          0\n",
              "167835 2020-05-22  56037     25          0\n",
              "167836 2020-05-22  56039    100          0\n",
              "167837 2020-05-22  56041     13          0\n",
              "167838 2020-05-22  56043     19          0"
            ]
          },
          "metadata": {
            "tags": []
          },
          "execution_count": 126
        }
      ]
    },
    {
      "cell_type": "markdown",
      "metadata": {
        "id": "7ST8HCL-OHc7",
        "colab_type": "text"
      },
      "source": [
        "### Try to join datasets on date, county, state"
      ]
    },
    {
      "cell_type": "code",
      "metadata": {
        "id": "sDrOVJ4lOfA2",
        "colab_type": "code",
        "outputId": "721e0d66-fcd2-4d45-b65e-15cec327612f",
        "colab": {
          "base_uri": "https://localhost:8080/",
          "height": 197
        }
      },
      "source": [
        "test = population_df.merge(df, how='right', on=['state', 'county'])\n",
        "test.head()"
      ],
      "execution_count": 128,
      "outputs": [
        {
          "output_type": "execute_result",
          "data": {
            "text/html": [
              "<div>\n",
              "<style scoped>\n",
              "    .dataframe tbody tr th:only-of-type {\n",
              "        vertical-align: middle;\n",
              "    }\n",
              "\n",
              "    .dataframe tbody tr th {\n",
              "        vertical-align: top;\n",
              "    }\n",
              "\n",
              "    .dataframe thead th {\n",
              "        text-align: right;\n",
              "    }\n",
              "</style>\n",
              "<table border=\"1\" class=\"dataframe\">\n",
              "  <thead>\n",
              "    <tr style=\"text-align: right;\">\n",
              "      <th></th>\n",
              "      <th>county</th>\n",
              "      <th>state</th>\n",
              "      <th>population</th>\n",
              "      <th>state_fips</th>\n",
              "      <th>county_fips</th>\n",
              "      <th>date</th>\n",
              "      <th>day_of_week</th>\n",
              "      <th>retail_and_rec</th>\n",
              "      <th>grocery_and_pharmacy</th>\n",
              "      <th>parks</th>\n",
              "      <th>transit_stations</th>\n",
              "      <th>workplaces</th>\n",
              "      <th>residential</th>\n",
              "    </tr>\n",
              "  </thead>\n",
              "  <tbody>\n",
              "    <tr>\n",
              "      <th>0</th>\n",
              "      <td>Autauga County</td>\n",
              "      <td>Alabama</td>\n",
              "      <td>55869</td>\n",
              "      <td>01</td>\n",
              "      <td>001</td>\n",
              "      <td>2020-02-15</td>\n",
              "      <td>5</td>\n",
              "      <td>5.0</td>\n",
              "      <td>7.0</td>\n",
              "      <td>NaN</td>\n",
              "      <td>NaN</td>\n",
              "      <td>-4.0</td>\n",
              "      <td>NaN</td>\n",
              "    </tr>\n",
              "    <tr>\n",
              "      <th>1</th>\n",
              "      <td>Autauga County</td>\n",
              "      <td>Alabama</td>\n",
              "      <td>55869</td>\n",
              "      <td>01</td>\n",
              "      <td>001</td>\n",
              "      <td>2020-02-16</td>\n",
              "      <td>6</td>\n",
              "      <td>0.0</td>\n",
              "      <td>1.0</td>\n",
              "      <td>-23.0</td>\n",
              "      <td>NaN</td>\n",
              "      <td>-4.0</td>\n",
              "      <td>NaN</td>\n",
              "    </tr>\n",
              "    <tr>\n",
              "      <th>2</th>\n",
              "      <td>Autauga County</td>\n",
              "      <td>Alabama</td>\n",
              "      <td>55869</td>\n",
              "      <td>01</td>\n",
              "      <td>001</td>\n",
              "      <td>2020-02-17</td>\n",
              "      <td>0</td>\n",
              "      <td>8.0</td>\n",
              "      <td>0.0</td>\n",
              "      <td>NaN</td>\n",
              "      <td>NaN</td>\n",
              "      <td>-27.0</td>\n",
              "      <td>5.0</td>\n",
              "    </tr>\n",
              "    <tr>\n",
              "      <th>3</th>\n",
              "      <td>Autauga County</td>\n",
              "      <td>Alabama</td>\n",
              "      <td>55869</td>\n",
              "      <td>01</td>\n",
              "      <td>001</td>\n",
              "      <td>2020-02-18</td>\n",
              "      <td>1</td>\n",
              "      <td>-2.0</td>\n",
              "      <td>0.0</td>\n",
              "      <td>NaN</td>\n",
              "      <td>NaN</td>\n",
              "      <td>2.0</td>\n",
              "      <td>0.0</td>\n",
              "    </tr>\n",
              "    <tr>\n",
              "      <th>4</th>\n",
              "      <td>Autauga County</td>\n",
              "      <td>Alabama</td>\n",
              "      <td>55869</td>\n",
              "      <td>01</td>\n",
              "      <td>001</td>\n",
              "      <td>2020-02-19</td>\n",
              "      <td>2</td>\n",
              "      <td>-2.0</td>\n",
              "      <td>0.0</td>\n",
              "      <td>NaN</td>\n",
              "      <td>NaN</td>\n",
              "      <td>2.0</td>\n",
              "      <td>0.0</td>\n",
              "    </tr>\n",
              "  </tbody>\n",
              "</table>\n",
              "</div>"
            ],
            "text/plain": [
              "           county    state  ...  workplaces residential\n",
              "0  Autauga County  Alabama  ...        -4.0         NaN\n",
              "1  Autauga County  Alabama  ...        -4.0         NaN\n",
              "2  Autauga County  Alabama  ...       -27.0         5.0\n",
              "3  Autauga County  Alabama  ...         2.0         0.0\n",
              "4  Autauga County  Alabama  ...         2.0         0.0\n",
              "\n",
              "[5 rows x 13 columns]"
            ]
          },
          "metadata": {
            "tags": []
          },
          "execution_count": 128
        }
      ]
    },
    {
      "cell_type": "code",
      "metadata": {
        "id": "l0BadMoWVxvG",
        "colab_type": "code",
        "outputId": "a74e5fba-738a-4e6f-b31f-8f0cff578eba",
        "colab": {
          "base_uri": "https://localhost:8080/",
          "height": 47
        }
      },
      "source": [
        "# verify that join was successful\n",
        "test[test['population'].isnull()].drop_duplicates(subset=['county', 'state'])"
      ],
      "execution_count": 129,
      "outputs": [
        {
          "output_type": "execute_result",
          "data": {
            "text/html": [
              "<div>\n",
              "<style scoped>\n",
              "    .dataframe tbody tr th:only-of-type {\n",
              "        vertical-align: middle;\n",
              "    }\n",
              "\n",
              "    .dataframe tbody tr th {\n",
              "        vertical-align: top;\n",
              "    }\n",
              "\n",
              "    .dataframe thead th {\n",
              "        text-align: right;\n",
              "    }\n",
              "</style>\n",
              "<table border=\"1\" class=\"dataframe\">\n",
              "  <thead>\n",
              "    <tr style=\"text-align: right;\">\n",
              "      <th></th>\n",
              "      <th>county</th>\n",
              "      <th>state</th>\n",
              "      <th>population</th>\n",
              "      <th>state_fips</th>\n",
              "      <th>county_fips</th>\n",
              "      <th>date</th>\n",
              "      <th>day_of_week</th>\n",
              "      <th>retail_and_rec</th>\n",
              "      <th>grocery_and_pharmacy</th>\n",
              "      <th>parks</th>\n",
              "      <th>transit_stations</th>\n",
              "      <th>workplaces</th>\n",
              "      <th>residential</th>\n",
              "    </tr>\n",
              "  </thead>\n",
              "  <tbody>\n",
              "  </tbody>\n",
              "</table>\n",
              "</div>"
            ],
            "text/plain": [
              "Empty DataFrame\n",
              "Columns: [county, state, population, state_fips, county_fips, date, day_of_week, retail_and_rec, grocery_and_pharmacy, parks, transit_stations, workplaces, residential]\n",
              "Index: []"
            ]
          },
          "metadata": {
            "tags": []
          },
          "execution_count": 129
        }
      ]
    },
    {
      "cell_type": "code",
      "metadata": {
        "id": "qPiN7RnSTB_I",
        "colab_type": "code",
        "colab": {}
      },
      "source": [
        "# let fips be full 5 digit code\n",
        "test['fips'] = test['state_fips'] + test['county_fips']"
      ],
      "execution_count": 0,
      "outputs": []
    },
    {
      "cell_type": "code",
      "metadata": {
        "id": "9oU7mbARlMsd",
        "colab_type": "code",
        "outputId": "96582001-c2f6-4579-c26f-feb59ba53731",
        "colab": {
          "base_uri": "https://localhost:8080/",
          "height": 197
        }
      },
      "source": [
        "# merge population, google mobility data, and covid cases data\n",
        "final_df = test.merge(case_count_df, on=['date','fips'], how='left')\n",
        "final_df.head()"
      ],
      "execution_count": 152,
      "outputs": [
        {
          "output_type": "execute_result",
          "data": {
            "text/html": [
              "<div>\n",
              "<style scoped>\n",
              "    .dataframe tbody tr th:only-of-type {\n",
              "        vertical-align: middle;\n",
              "    }\n",
              "\n",
              "    .dataframe tbody tr th {\n",
              "        vertical-align: top;\n",
              "    }\n",
              "\n",
              "    .dataframe thead th {\n",
              "        text-align: right;\n",
              "    }\n",
              "</style>\n",
              "<table border=\"1\" class=\"dataframe\">\n",
              "  <thead>\n",
              "    <tr style=\"text-align: right;\">\n",
              "      <th></th>\n",
              "      <th>county</th>\n",
              "      <th>state</th>\n",
              "      <th>population</th>\n",
              "      <th>state_fips</th>\n",
              "      <th>county_fips</th>\n",
              "      <th>date</th>\n",
              "      <th>day_of_week</th>\n",
              "      <th>retail_and_rec</th>\n",
              "      <th>grocery_and_pharmacy</th>\n",
              "      <th>parks</th>\n",
              "      <th>transit_stations</th>\n",
              "      <th>workplaces</th>\n",
              "      <th>residential</th>\n",
              "      <th>fips</th>\n",
              "      <th>cases</th>\n",
              "      <th>new_cases</th>\n",
              "    </tr>\n",
              "  </thead>\n",
              "  <tbody>\n",
              "    <tr>\n",
              "      <th>0</th>\n",
              "      <td>Autauga County</td>\n",
              "      <td>Alabama</td>\n",
              "      <td>55869</td>\n",
              "      <td>01</td>\n",
              "      <td>001</td>\n",
              "      <td>2020-02-15</td>\n",
              "      <td>5</td>\n",
              "      <td>5.0</td>\n",
              "      <td>7.0</td>\n",
              "      <td>NaN</td>\n",
              "      <td>NaN</td>\n",
              "      <td>-4.0</td>\n",
              "      <td>NaN</td>\n",
              "      <td>01001</td>\n",
              "      <td>NaN</td>\n",
              "      <td>NaN</td>\n",
              "    </tr>\n",
              "    <tr>\n",
              "      <th>1</th>\n",
              "      <td>Autauga County</td>\n",
              "      <td>Alabama</td>\n",
              "      <td>55869</td>\n",
              "      <td>01</td>\n",
              "      <td>001</td>\n",
              "      <td>2020-02-16</td>\n",
              "      <td>6</td>\n",
              "      <td>0.0</td>\n",
              "      <td>1.0</td>\n",
              "      <td>-23.0</td>\n",
              "      <td>NaN</td>\n",
              "      <td>-4.0</td>\n",
              "      <td>NaN</td>\n",
              "      <td>01001</td>\n",
              "      <td>NaN</td>\n",
              "      <td>NaN</td>\n",
              "    </tr>\n",
              "    <tr>\n",
              "      <th>2</th>\n",
              "      <td>Autauga County</td>\n",
              "      <td>Alabama</td>\n",
              "      <td>55869</td>\n",
              "      <td>01</td>\n",
              "      <td>001</td>\n",
              "      <td>2020-02-17</td>\n",
              "      <td>0</td>\n",
              "      <td>8.0</td>\n",
              "      <td>0.0</td>\n",
              "      <td>NaN</td>\n",
              "      <td>NaN</td>\n",
              "      <td>-27.0</td>\n",
              "      <td>5.0</td>\n",
              "      <td>01001</td>\n",
              "      <td>NaN</td>\n",
              "      <td>NaN</td>\n",
              "    </tr>\n",
              "    <tr>\n",
              "      <th>3</th>\n",
              "      <td>Autauga County</td>\n",
              "      <td>Alabama</td>\n",
              "      <td>55869</td>\n",
              "      <td>01</td>\n",
              "      <td>001</td>\n",
              "      <td>2020-02-18</td>\n",
              "      <td>1</td>\n",
              "      <td>-2.0</td>\n",
              "      <td>0.0</td>\n",
              "      <td>NaN</td>\n",
              "      <td>NaN</td>\n",
              "      <td>2.0</td>\n",
              "      <td>0.0</td>\n",
              "      <td>01001</td>\n",
              "      <td>NaN</td>\n",
              "      <td>NaN</td>\n",
              "    </tr>\n",
              "    <tr>\n",
              "      <th>4</th>\n",
              "      <td>Autauga County</td>\n",
              "      <td>Alabama</td>\n",
              "      <td>55869</td>\n",
              "      <td>01</td>\n",
              "      <td>001</td>\n",
              "      <td>2020-02-19</td>\n",
              "      <td>2</td>\n",
              "      <td>-2.0</td>\n",
              "      <td>0.0</td>\n",
              "      <td>NaN</td>\n",
              "      <td>NaN</td>\n",
              "      <td>2.0</td>\n",
              "      <td>0.0</td>\n",
              "      <td>01001</td>\n",
              "      <td>NaN</td>\n",
              "      <td>NaN</td>\n",
              "    </tr>\n",
              "  </tbody>\n",
              "</table>\n",
              "</div>"
            ],
            "text/plain": [
              "           county    state  population  ...   fips cases new_cases\n",
              "0  Autauga County  Alabama       55869  ...  01001   NaN       NaN\n",
              "1  Autauga County  Alabama       55869  ...  01001   NaN       NaN\n",
              "2  Autauga County  Alabama       55869  ...  01001   NaN       NaN\n",
              "3  Autauga County  Alabama       55869  ...  01001   NaN       NaN\n",
              "4  Autauga County  Alabama       55869  ...  01001   NaN       NaN\n",
              "\n",
              "[5 rows x 16 columns]"
            ]
          },
          "metadata": {
            "tags": []
          },
          "execution_count": 152
        }
      ]
    },
    {
      "cell_type": "code",
      "metadata": {
        "id": "9ArLUQRqMhwM",
        "colab_type": "code",
        "colab": {
          "base_uri": "https://localhost:8080/",
          "height": 34
        },
        "outputId": "a9ddcd31-d586-470f-f25d-904c671f979d"
      },
      "source": [
        "final_df.new_cases.shape[0] - final_df.new_cases.isna().sum()"
      ],
      "execution_count": 160,
      "outputs": [
        {
          "output_type": "execute_result",
          "data": {
            "text/plain": [
              "211962"
            ]
          },
          "metadata": {
            "tags": []
          },
          "execution_count": 160
        }
      ]
    },
    {
      "cell_type": "code",
      "metadata": {
        "id": "E80LqMP6M46u",
        "colab_type": "code",
        "colab": {}
      },
      "source": [
        "# issues with virginia and alaska 'cities' and 'municipalities'\n",
        "final_df[final_df['fips'].isnull()].drop_duplicates(subset=['county', 'state'])"
      ],
      "execution_count": 0,
      "outputs": []
    },
    {
      "cell_type": "code",
      "metadata": {
        "id": "Vy_rbKQClqK7",
        "colab_type": "code",
        "outputId": "1710199e-3721-4878-f7a4-409e158e7a6c",
        "colab": {
          "base_uri": "https://localhost:8080/",
          "height": 34
        }
      },
      "source": [
        "# export final df to csv\n",
        "\n",
        "from google.colab import drive\n",
        "drive.mount('/content/drive')\n"
      ],
      "execution_count": 156,
      "outputs": [
        {
          "output_type": "stream",
          "text": [
            "Drive already mounted at /content/drive; to attempt to forcibly remount, call drive.mount(\"/content/drive\", force_remount=True).\n"
          ],
          "name": "stdout"
        }
      ]
    },
    {
      "cell_type": "code",
      "metadata": {
        "id": "K7oQPsTNnTIn",
        "colab_type": "code",
        "colab": {}
      },
      "source": [
        "\n",
        "final_df.to_csv('mobility_and_case_count.csv', index=False)\n",
        "!cp mobility_and_case_count.csv \"/content/drive/My Drive/\""
      ],
      "execution_count": 0,
      "outputs": []
    }
  ]
}